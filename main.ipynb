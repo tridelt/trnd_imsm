{
 "cells": [
  {
   "cell_type": "code",
   "execution_count": null,
   "id": "702b819d-88df-469f-8ac6-c31d2a62531e",
   "metadata": {},
   "outputs": [],
   "source": [
    "%load_ext autoreload\n",
    "%autoreload 2"
   ]
  },
  {
   "cell_type": "code",
   "execution_count": 1,
   "id": "4ac457f9-31ba-4fa0-a070-0bd4faed439a",
   "metadata": {},
   "outputs": [],
   "source": [
    "from bs4 import BeautifulSoup\n",
    "import requests\n",
    "import pandas as pd\n",
    "from utils import *\n",
    "import os\n",
    "\n",
    "from scrape_projects_meta import scrape_projects_meta\n",
    "from scrape_faq import scrape_faq\n",
    "from scrape_results import scrape_results\n",
    "from scrape_tmp_blog_links import scrape_tmp_blog_links\n",
    "from scrape_blogs_meta import scrape_blogs_meta\n",
    "from scrape_blogs_comments import scrape_blogs_comments"
   ]
  },
  {
   "cell_type": "code",
   "execution_count": null,
   "id": "13b8a2b7-785b-4549-9490-57898f83ddca",
   "metadata": {
    "tags": []
   },
   "outputs": [],
   "source": [
    "\n",
    "for cc in ['de', 'be-fr', 'be-nl', 'cz', 'es', 'fr', 'it', 'hu', 'nl', 'pl', 'pt', 'ro', 'uk']:\n",
    "    if not os.path.isdir(f\"./data/{cc}\"):\n",
    "        os.mkdir(f\"./data/{cc}\")\n",
    "\n",
    "#     scrape PROJECTS\n",
    "    if not os.path.isfile(f\"./data/{cc}/projects.csv\"):\n",
    "        scrape_projects_meta(cc)\n",
    "    print(f\"scraped PROJECTS --> {cc}\")\n",
    "\n",
    "#     scrape FAQ based on PROJECTS\n",
    "    if not os.path.isfile(f\"./data/{cc}/faq.csv\"):\n",
    "        scrape_faq(cc)\n",
    "    print(f\"scraped FAQ --> {cc}\")\n",
    "\n",
    "#     scrape RESULTS based on PROJECTS\n",
    "    if not os.path.isfile(f\"./data/{cc}/results.csv\"):\n",
    "        scrape_results(cc)\n",
    "    print(f\"scraped RESULTS --> {cc}\")\n",
    "\n",
    "#     scrape tmp-BLOG-LINKS based on PROJECTS\n",
    "    if not os.path.isfile(f\"./data/{cc}/tmp_blog_links.csv\"):\n",
    "        scrape_tmp_blog_links(cc)\n",
    "    print(f\"scraped TMP_BLOG_LINKS --> {cc}\")\n",
    "\n",
    "#     scrape BLOG-META based on tmp-BLOG-LINKS\n",
    "    if not os.path.isfile(f\"./data/{cc}/blogs_meta.csv\"):\n",
    "        scrape_blogs_meta(cc)\n",
    "        # modifies the results.csv\n",
    "        # count_comments(cc)\n",
    "        # print(f\"added n_comments to results.csv --> {cc}\")\n",
    "    print(f\"scraped BLOGS_META --> {cc}\")\n",
    "\n",
    "#     scrape BLOG-COMMENTS based on tmp-BLOG-LINKS\n",
    "    if not os.path.isfile(f\"./data/{cc}/blogs_comments.csv\"):\n",
    "        scrape_blogs_comments(cc)\n",
    "    print(f\"scraped BLOGS_COMMENTS --> {cc}\")\n",
    "    \n",
    "\n",
    "\n",
    "    # breaks"
   ]
  },
  {
   "cell_type": "code",
   "execution_count": null,
   "id": "4ef9ee9c-f636-4283-89a2-e00cadc742d1",
   "metadata": {},
   "outputs": [],
   "source": []
  }
 ],
 "metadata": {
  "kernelspec": {
   "display_name": "Python 3 (ipykernel)",
   "language": "python",
   "name": "python3"
  },
  "language_info": {
   "codemirror_mode": {
    "name": "ipython",
    "version": 3
   },
   "file_extension": ".py",
   "mimetype": "text/x-python",
   "name": "python",
   "nbconvert_exporter": "python",
   "pygments_lexer": "ipython3",
   "version": "3.9.12"
  }
 },
 "nbformat": 4,
 "nbformat_minor": 5
}
