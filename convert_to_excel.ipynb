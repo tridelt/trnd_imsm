{
 "cells": [
  {
   "cell_type": "code",
   "execution_count": null,
   "id": "2a202574-b8b8-41fe-9e23-726b792fe025",
   "metadata": {},
   "outputs": [],
   "source": [
    "pip install xlsxwriter"
   ]
  },
  {
   "cell_type": "code",
   "execution_count": null,
   "id": "597999bc-b875-492e-a54e-03d4b91ddb7f",
   "metadata": {},
   "outputs": [],
   "source": [
    "import os\n",
    "import glob\n",
    "import csv\n",
    "from xlsxwriter.workbook import Workbook"
   ]
  },
  {
   "cell_type": "code",
   "execution_count": null,
   "id": "7a47708b-da8d-4d9e-b659-ae5dc2bb07ec",
   "metadata": {},
   "outputs": [],
   "source": [
    "# so easy in hindsight...\n",
    "os.path.join('.','summer','data','de','.', '*.csv')"
   ]
  },
  {
   "cell_type": "code",
   "execution_count": null,
   "id": "13f1fcfb-012d-4a38-afa7-8bd51da92892",
   "metadata": {
    "scrolled": true,
    "tags": []
   },
   "outputs": [],
   "source": [
    "for cc in ['de', 'be-fr', 'be-nl', 'cz', 'es', 'fr', 'it', 'hu', 'nl', 'pl', 'pt', 'ro', 'uk']:\n",
    "    for csvfile in glob.glob(os.path.join('/Users/pi/Desktop/trnd',cc,'.', '*.csv')):\n",
    "        workbook = Workbook(csvfile[:-4] + '.xlsx')\n",
    "        worksheet = workbook.add_worksheet()\n",
    "        with open(csvfile, 'rt', encoding='utf8') as f:\n",
    "            reader = csv.reader(f)\n",
    "            for r, row in enumerate(reader):\n",
    "                for c, col in enumerate(row):\n",
    "                    worksheet.write(r, c, col)\n",
    "        workbook.close()"
   ]
  },
  {
   "cell_type": "code",
   "execution_count": null,
   "id": "dc9792a1-2726-4586-89a6-d8b4fedb3cee",
   "metadata": {},
   "outputs": [],
   "source": []
  }
 ],
 "metadata": {
  "kernelspec": {
   "display_name": "Python 3 (ipykernel)",
   "language": "python",
   "name": "python3"
  },
  "language_info": {
   "codemirror_mode": {
    "name": "ipython",
    "version": 3
   },
   "file_extension": ".py",
   "mimetype": "text/x-python",
   "name": "python",
   "nbconvert_exporter": "python",
   "pygments_lexer": "ipython3",
   "version": "3.9.12"
  }
 },
 "nbformat": 4,
 "nbformat_minor": 5
}
