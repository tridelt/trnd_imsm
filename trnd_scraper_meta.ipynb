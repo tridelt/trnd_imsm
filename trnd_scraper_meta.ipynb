{
 "cells": [
  {
   "cell_type": "code",
   "execution_count": null,
   "metadata": {},
   "outputs": [],
   "source": [
    "import os\n",
    "import sys\n",
    "import datetime\n",
    "import requests\n",
    "import pandas as pd\n",
    "from requests_html import HTML, HTMLSession, AsyncHTMLSession\n",
    "\n",
    "import time\n",
    "from selenium import webdriver\n",
    "import csv\n",
    "from tqdm import tqdm\n",
    "from utils import get_comment_post_time"
   ]
  },
  {
   "cell_type": "markdown",
   "metadata": {},
   "source": [
    "## add MISSING n_participatns and author --> *./de_projekte.csv*"
   ]
  },
  {
   "cell_type": "code",
   "execution_count": null,
   "metadata": {},
   "outputs": [],
   "source": [
    "session = HTMLSession()\n",
    "    \n",
    "project_df = pd.read_csv('./de_projekte.csv')\n",
    "csv_projekte_meta_lines = []\n",
    "for i, row in project_df.iterrows():   \n",
    "    \n",
    "    project_page = session.get(row['href'])\n",
    "    participants_elem = project_page.html.find('.project-hero__project-size',first=True)\n",
    "    participants = int(participants_elem.text.split()[0]) if participants_elem else None\n",
    "\n",
    "    row['participants'] = participants\n",
    "    csv_projekte_meta_lines.append(row)\n",
    "#     break\n",
    "\n",
    "df = pd.DataFrame(csv_projekte_meta_lines)\n",
    "df.to_csv('./de_projekte.csv', index=None)  "
   ]
  },
  {
   "cell_type": "markdown",
   "metadata": {},
   "source": [
    "## create --> *./de_blogs_meta.csv*"
   ]
  },
  {
   "cell_type": "code",
   "execution_count": null,
   "metadata": {
    "scrolled": true
   },
   "outputs": [],
   "source": [
    "session = HTMLSession()\n",
    "\n",
    "df = pd.read_csv(f'./de_blog_links.csv')\n",
    "\n",
    "csv_blog_meta_lines = []\n",
    "for i, row in df.iterrows():    \n",
    "    \n",
    "    blog_url = row['blog_href']\n",
    "    print(blog_url)\n",
    "    page = session.get(blog_url)\n",
    "    \n",
    "#     n of comments\n",
    "    n_comments_elem = page.html.find('.comment-headline',first=True)\n",
    "    n_comments = int(n_comments_elem.text.split()[0]) if n_comments_elem else None\n",
    "    \n",
    "#     auther and publish_date\n",
    "    meta_elem = page.html.find('.post-meta',first=True)\n",
    "    if meta_elem:\n",
    "        meta_elem = meta_elem.find('p')\n",
    "    author = meta_elem[0].text if meta_elem else None\n",
    "    publish_date = str(datetime.datetime.now() - datetime.timedelta(seconds=get_comment_post_time(meta_elem[1].text[4:]))).split('.')[0] if meta_elem else None\n",
    "    print(publish_date)\n",
    "    \n",
    "    \n",
    "#     participants_elem = page.html.find('.project-hero__project-size',first=True)\n",
    "#     category_elem = page.html.find('.project-hero__project-category',first=True)\n",
    "#     timespan_elem = page.html.find('.project-hero__project-runtime',first=True)\n",
    "\n",
    "#     participants = int(participants_elem.text.split()[0]) if participants_elem else None\n",
    "#     category = category_elem.text.strip() if category_elem else None\n",
    "#     timespan = timespan_elem.text.strip() if timespan_elem else None\n",
    "\n",
    "    content_elem = page.html.find('.post-content__article',first=True)\n",
    "    content = page.html.find('.post-content__article',first=True).text if content_elem else None\n",
    "    \n",
    "    csv_blog_meta_lines.append({\n",
    "        'project_id' : row['project_id'],\n",
    "        'blog_id' : row['blog_id'],\n",
    "        'blog_href' : blog_url,\n",
    "#         'category' : category,\n",
    "#         'timespan' : timespan,\n",
    "#         'n_participants' : participants,\n",
    "        'author' : author,\n",
    "        'publish_date' : publish_date,\n",
    "        'content' : content,\n",
    "        'n_comments' : n_comments\n",
    "    })\n",
    "    \n",
    "#     break\n",
    "\n",
    "df = pd.DataFrame(csv_blog_meta_lines)\n",
    "df.to_csv('./de_blogs_meta.csv', index=None)  "
   ]
  },
  {
   "cell_type": "markdown",
   "metadata": {},
   "source": [
    "## load --> *./de_projekt_ergebnisse*"
   ]
  },
  {
   "cell_type": "code",
   "execution_count": null,
   "metadata": {
    "scrolled": true
   },
   "outputs": [],
   "source": [
    "# this should work all the way back... 2017 and earlier\n",
    "\n",
    "df = pd.read_csv(f'./de_projekte.csv')\n",
    "session = HTMLSession()\n",
    "\n",
    "csv_result_line = []\n",
    "for i, row in df.iterrows():\n",
    "    \n",
    "    project_base_url = row['href']\n",
    "    print(f'\\n#{i+1}  {project_base_url}')\n",
    "    homepage = session.get(project_base_url)\n",
    "    \n",
    "    nav_bar = homepage.html.find('.project-nav',first=True)\n",
    "    if nav_bar:\n",
    "        print([x.text for x in nav_bar.find('a')])\n",
    "    if nav_bar and any([x.text == 'Ergebnisse' for x in nav_bar.find('a')]):\n",
    "        project_results_link = [x for x in nav_bar.find('a') if x.text == 'Ergebnisse'][0].attrs['href']\n",
    "    else:\n",
    "        continue\n",
    "    \n",
    "    print(f'#{i+1}  {project_results_link}')\n",
    "    ergebnisse_page = session.get(project_results_link)\n",
    "    \n",
    "    # weiterempfehlungsquote\n",
    "    weiterempfehlungsquote_elem = ergebnisse_page.html.find('.product-conviction__number',first=True)\n",
    "    weiterempfehlungsquote = int(weiterempfehlungsquote_elem.text[:-1]) if weiterempfehlungsquote_elem else None\n",
    "    \n",
    "    spans = ergebnisse_page.html.find('span')\n",
    "    rating_value = [item for item in spans if item.attrs.get('itemprop') == 'ratingValue']\n",
    "    review_count = [item for item in spans if item.attrs.get('itemprop') == 'reviewCount']\n",
    "    rating_value = float(rating_value[0].text) if len(rating_value) == 1 else None\n",
    "    review_count = int(review_count[0].text.replace('.','')) if len(review_count) == 1 else None\n",
    "    \n",
    "    content = homepage.html.find('.post-wrapper',first=True)\n",
    "    content = content.find('article',first=True).text if content else None\n",
    "    \n",
    "    csv_result_line.append({\n",
    "        'project_id' : row['project_id'],\n",
    "        'weiterempfehlungsquote (%)' : weiterempfehlungsquote,\n",
    "        'rating_value' : rating_value,\n",
    "        'review_count' : review_count,\n",
    "        'content' : content\n",
    "    })\n",
    "\n",
    "df = pd.DataFrame(csv_result_line)\n",
    "df.to_csv('./de_projekt_ergebnisse.csv', index=None)  "
   ]
  }
 ],
 "metadata": {
  "kernelspec": {
   "display_name": "Python 3 (ipykernel)",
   "language": "python",
   "name": "python3"
  },
  "language_info": {
   "codemirror_mode": {
    "name": "ipython",
    "version": 3
   },
   "file_extension": ".py",
   "mimetype": "text/x-python",
   "name": "python",
   "nbconvert_exporter": "python",
   "pygments_lexer": "ipython3",
   "version": "3.9.12"
  }
 },
 "nbformat": 4,
 "nbformat_minor": 4
}
