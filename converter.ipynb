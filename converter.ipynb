{
 "cells": [
  {
   "cell_type": "code",
   "execution_count": 1,
   "id": "2a202574-b8b8-41fe-9e23-726b792fe025",
   "metadata": {},
   "outputs": [
    {
     "name": "stdout",
     "output_type": "stream",
     "text": [
      "Requirement already satisfied: xlsxwriter in /Users/pi/opt/anaconda3/lib/python3.9/site-packages (3.0.1)\n",
      "Note: you may need to restart the kernel to use updated packages.\n"
     ]
    }
   ],
   "source": [
    "pip install xlsxwriter"
   ]
  },
  {
   "cell_type": "code",
   "execution_count": 1,
   "id": "597999bc-b875-492e-a54e-03d4b91ddb7f",
   "metadata": {},
   "outputs": [],
   "source": [
    "import os\n",
    "import glob\n",
    "import csv\n",
    "from xlsxwriter.workbook import Workbook"
   ]
  },
  {
   "cell_type": "code",
   "execution_count": 2,
   "id": "7a47708b-da8d-4d9e-b659-ae5dc2bb07ec",
   "metadata": {},
   "outputs": [
    {
     "data": {
      "text/plain": [
       "'./summer/data/de/./*.csv'"
      ]
     },
     "execution_count": 2,
     "metadata": {},
     "output_type": "execute_result"
    }
   ],
   "source": [
    "# so easy in hindsight...\n",
    "os.path.join('.','summer','data','de','.', '*.csv')"
   ]
  },
  {
   "cell_type": "code",
   "execution_count": 3,
   "id": "13f1fcfb-012d-4a38-afa7-8bd51da92892",
   "metadata": {
    "scrolled": true,
    "tags": []
   },
   "outputs": [
    {
     "name": "stderr",
     "output_type": "stream",
     "text": [
      "/opt/anaconda3/lib/python3.9/site-packages/xlsxwriter/worksheet.py:1170: UserWarning: Ignoring URL 'https://www.facebook.com/Kuechenregentin/posts/1511434169165826\n",
      "\n",
      "Sodele%20-%20ich%20hab%20die%20%22Joghurtschnitte%22%20ausprobiert%20im%20Rahmen%20des%20neuen%20trnd%20-%20Produkttests.\n",
      "Hm.%20Bin%20nicht%20richtig%20überzeugt.\n",
      "Einerseits%20liebe%20ich%20Milchschnitte%20über%20alles%20und%20es%20ist%20nunmal%20sehr%20ähnlich%20aufgebaut%20so%20dass%20man%20unweigerlich%20Vergleiche%20zieht,%20andererseits%20ist%20es%20was%20völlig%20anderes%20von%20der%20Konsistenz%20und%20vom%20Geschmack%20dass%20Vergleichen%20auch%20wieder%20doof%20ist.\n",
      "Wenn%20die%20Milchschnitte%20für%20mich%20(rein%20geschmacklich%20bewertet,%20Inhaltsstoffe%20aussen%20vorgelassen)%2010%20von%2010%20Punkten%20erzielt,%20bekommt%20die%20Joghurtschnitte%20maximal%207%20Punkte.\n",
      "Was%20mich%20auch%20hier%20kollosal%20stört%20ist%20dass%20der%20rote%20Faden%20abgeschafft%20wurde.%20Ich%20finde%20sie%20total%20blöd%20zu%20öffnen.%20Fängt%20schon%20damit%20an,%20dass%20ich%20meist%20in%20der%20Hektik%20die%20Schnitte%20verknicke,%20wenn%20ich%20sie%20vom%20Fünferpack%20ablöse.%20Die%20einzelne%20Schnitte%20aufreissen%20an%20der%20oberkante%20mag%20ich%20auch%20nicht.%20Das%20mit%20dem%20roten%20Faden%20hatte%20noch%20sTil%20-%20das%20jetzt%20ist%20einfach%20nur%20billig,%20schade!\n",
      "Die%20Konsistenz%20der%20Creme%20ist%20toll%20-%20schmeckt%20sehr%20erfrischend%20und%20lecker,%20erinnert%20an%20Käse-Sahne-Torte.%20Anfangs%20war%20noch%20wie%20so%20eine%20Art%20%22Gel%22%20aus%20Zitrone,%20das%20war%20glaub%20aber%20eher%20Zufall.\n",
      "Die%20Schnitte%20selbst%20ist%20furztrocken,%20das%20ist%20der%20AUsdruck%20der%20noch%20am%20besten%20passt.%20Schmeckt%20überhaupt%20nicht%20gut,%20man%20muß%20sofort%20danach%20was%20trinken.\n",
      "Außerdem%20passt%20die%20Schokofarbe%20weder%20zum%20Geschmack%20(schmeckt%20nicht%20wirklich%20nach%20Kakao)%20noch%20zum%20Zitronenjoghurt%20muß%20ich%20sagen.%20Ich%20erwarte%20da%20eher%20einen%20hellen,%20saftigen%20Teig,%20als%20was%20trockenes%20eingefärbtes%20...%20die%20Farbe%20ist%20nicht%20Fisch%20nicht%20Fleisch,%20nicht%20richtig%20schön%20braun%20und%20eben%20auch%20nicht%20weiß%20-%20gefällt%20mir%20überhaupt%20nicht.\n",
      "Zu%20süß%20ist%20sie%20mir%20ausserdem,%20etwas%20weniger%20süß%20würde%20mehr%20erfrischen,%20auf%20was%20Ferrero%20ja%20hinauswill%20(%2028,7%25%20Zucker!!)\n",
      "Nun%20zu%20den%20Inhaltsstoffen:\n",
      "Ich%20hatte%20bei%20der%20JOGHURT%20Schnitte%20erwartet,%20dass%20sie%20unter%20anderem%20entwickelt%20wurde%20weil%20die%20Milchschnitte%20immer%20so%20schlecht%20abschneidet%20in%20Tests%20für%20Kindergesundheit.%20Oft%20genug%20haben%20wir%20jetzt%20gehört%20dass%20eine%20Milchschnitte%20genausoviel%20Kalorien%20hat%20wie%20ein%20Stück%20Sahnetorte.\n",
      "Ergo%20habe%20ich%20von%20der%20JOghurtschnitte%20erwartet%20dass%20sie%20weniger%20Fett/Zucker%20hat%20-%20aber%20zuviel%20gehofft%20...%20hat%20auch%20über%20100%20Kalorien%20und%20ist%20dafür%20doch%20ziemlich%20klein!\n",
      "Zu%20den%20Inhaltsstoffen%20die%20halt%20wie%20man%20es%20bei%20Süßem%20so%20erwartet%20sind%20...%20gesund%20ist%20das%20natürlich%20nicht!\n",
      "Konzentrierter%20Joghurt%20(was%20auch%20immer%20das%20ist?%20Feuchtigkeit%20rausgezogen%20damit%20es%20fester%20ist?%20weiß%20es%20jemand%20von%20Euch?),%20Zucker,%20Vollmilch,%20Palmöl,%20Weizenmehl,%20volleipulver,%20traubenzucker,%20magermilchjoghurtpulver,%20birnensaftkonzentrat%20(das%20ist%20übrigens%20was%20ganz%20%22übles%22%20...%20da%20reiner%20Fruchtzucker%20-%20auf%20dieses%20Thema%20muß%20ich%20wohl%20mal%20in%20nem%20extra%20Post%20eingehen%20näher),%20Weizenkleie,%20Butterreinfett,%20honig,%20milcheiweiss,%20Backtriebmittel:%20Dinatriumdiphosphat,%20Natrumhydrogencarbonat,%20Ammoniumcarbonat,%20Emulgator%20Mono-%20und%20Diglyceride%20von%20Speisefettsäuren,%20fettarmer%20Kakao,%20Salz,%20Vanillin,%20und%20natürliches%20ZitronenAROMA%20(nichtmal%20echte%20Zitrone%20drin,%20so%20wie%20auf%20dem%20Foto%20vorne%20drauf%20abgebildet%20...%20Verbrauchertäuschung%20pur).\n",
      "Bilder%20in%20den%20Kommentaren.\n",
      "Wer%20gern%20eine%20probieren%20möchte%20-%20ich%20habe%20hier%20einige%20zum%20weitergeben!!' with link or location/anchor > 2079 characters since it exceeds Excel's limit for URLS\n",
      "  warn(\"Ignoring URL '%s' with link or location/anchor > %d \"\n",
      "/opt/anaconda3/lib/python3.9/site-packages/xlsxwriter/worksheet.py:1170: UserWarning: Ignoring URL 'https://respectlifestylemagazin.wordpress.com/\n",
      "\n",
      "Dyson%20v6%20Fluffy%20%20:%20idealer%20Helfer%20für%20die%20%20Wohnung%20oder%20den%20kleinen%20Schmutz\n",
      "\n",
      "Der%20Dyson%20v6%20Fluffy%20ist%20ein%20kleiner%20Spezialist.%20Das%20System%20selbst%20gibt%20es%20schon%20länger,%20die%20einzelnen%20Dyson-Hand-Sauger%20unterscheiden%20sich%20u.%20a.%20in%20den%20diversen%20Zubehörteilen,%20und%20Filtern.\n",
      "Der%20Fluffy%20kommt%20nun%20mit%20einer%20übergrossen,%20teppichmaterialüberzogenen%20Rotorbürste%20daher.%20Laut%20Dyson%20dient%20sie%20dazu,%20auch%20groben%20Schmutz%20zuverlässig%20aufzusaugen%20und%20nicht%20wegzuschleudern.\n",
      "\n",
      "Der%20Dyson%20v6%20Fluffy%20verfügt%20über%20eine%20intelligente%20Elektronik,%20welche%20den%20Motor%20mit%20digitalen%20Impulsen%20bis%20zu%20110.000%20Mal%20pro%20Minute%20rotieren%20lässt–%20das%20ist%20fünfmal%20so%20schnell%20wie%20der%20Motor%20eines%20Formel%201%20Fahrzeugs%20und%20dreimal%20schneller%20als%20ein%20herkömmlicher%20Staubsaugermotor.%20Zudem%20ist%20der%20Motor%20des%20V6%20besonders%20leicht%20und%20erzeugt%20im%20Vergleich%20zu%20anderen%20kabellosen%20Staubsaugern%20eine%20sehr%20hohe%20Saugkraft.\n",
      "\n",
      "Bei%20groben%20Schmutz%20fällt%20folgendes%20auf:%20dieser%20wird%20wirklich%20gut%20weggesaugt,%20und%20wie%20versprochen,%20nicht%20seitlich%20irgendwo%20rausgeschleudert.%20Aber%20die%20Bürste,%20so%20lustig%20sie%20aussieht,%20funktioniert%20also%20und%20saugt%20es%20direkt%20weg.\n",
      "Was%20auch%20auffällt:%20es%20verfangen%20sich%20weniger%20bis%20gar%20keine%20Haare%20in%20der%20Bürste.%20Das%20ist%20vor%20allem%20immer%20ein%20Problem%20mit%20den%20langen%20Haaren%20der%20Frauen.%20Das%20bringt%20mir%20bei%20einigen%20anderen%20Staubsauger-Kandidaten%20schon%20einmal%20schlechte%20Laune,%20wenn%20man%20minutenlang%20Haare%20aus%20der%20Rotorbürste%20schneiden%20darf.%20Die%20Bürste%20funktioniert%20auch%20super%20auf%20dem%20Teppich.\n",
      "\n",
      "Nach%20einem%20Monat%20mit%20dem%20Dyson%20v6%20Fluffy%20möchten%20wir%20ihn%20auf%20keinen%20Fall%20mehr%20missen.%20Ob%20kleine%20Wohnung%20oder%20großes%20Haus,%20der%20Zeitaufwand%20für%20das%20Saugen%20wird%20deutlich%20reduziert%20–%20auf%20einen%20Bodenstaubsauger%20kann%20man%20trotzdem%20nicht%20ganz%20verzichten%20auch%20wenn%20der%20nun%20deutlich%20seltener%20zum%20Einsatz%20kommt.\n",
      "\n",
      "Reinigung\n",
      "Die%20Reinigung%20des%20Fluffy%20ist%20simpel.%20Einfach%20den%20Taster%20betätigen,%20schon%20öffnet%20sich%20der%20Behälter%20und%20der%20Schmutz%20fällt%20nach%20untern%20heraus.%20Dazu%20kann%20man%20den%20Sauger%20direkt%20über%20den%20Müll%20halten%20oder%20am%20besten%20gleich%20in%20einer%20Tüte%20ausleeren,%20dann%20fliegt%20auch%20nichts%20herum.%20Den%20Filter%20sollte%20man%20einmal%20im%20Monat%20mit%20kaltem%20Wasser%20säubern%20und%20anschließend%20ca.%2024%20Stunden%20trocknen.%20Ganz%20ohne%20%22händische%22%20Reinigung%20geht%20es%20wohl%20bei%20keinem%20beutellosen%20Sauger.%20Hier%20ist%20es%20allerdings%20recht%20einfach%20und%20simple%20gelöst%20und%20auf%20ein%20Minimum%20reduziert.%20\n",
      "\n",
      "PRO:\n",
      "-%20Handhabung%20/%20Gewicht%20(leicht%20und%20wendig)\n",
      "-%20Saugkraft%20(sehr%20gut)\n",
      "-%20innovatives%20und%20modernes%20Gerät%20\n",
      "-%20Schnelligkeit\n",
      "\n",
      "CONTRA:\n",
      "-%20Preis%20(ca.%20390%20€%20für%20einen%20Zweitstaubsauger%20ist%20etwas%20hoch)\n",
      "-%20Akkulaufzeit%20könnte%20länger%20sein.\n",
      "\n",
      "Fazit:%20so%20Kräftig%20wie%20der%20Dyson%20v6%20Fluffy%20%20arbeitet,%20ersetzt%20er%20schon%20fast%20einen%20Bodenstaubsauger,%20nur%20die%20Kapazität%20des%20Akkus%20grenzt%20das%20ganze%20etwas%20ein.' with link or location/anchor > 2079 characters since it exceeds Excel's limit for URLS\n",
      "  warn(\"Ignoring URL '%s' with link or location/anchor > %d \"\n"
     ]
    }
   ],
   "source": [
    "for cc in ['de', 'be-fr', 'be-nl', 'cz', 'es', 'fr', 'it', 'hu', 'nl', 'pl', 'pt', 'ro', 'uk']:\n",
    "    for csvfile in glob.glob(os.path.join('/Users/pi/Desktop/trnd',cc,'.', '*.csv')):\n",
    "        workbook = Workbook(csvfile[:-4] + '.xlsx')\n",
    "        worksheet = workbook.add_worksheet()\n",
    "        with open(csvfile, 'rt', encoding='utf8') as f:\n",
    "            reader = csv.reader(f)\n",
    "            for r, row in enumerate(reader):\n",
    "                for c, col in enumerate(row):\n",
    "                    worksheet.write(r, c, col)\n",
    "        workbook.close()"
   ]
  },
  {
   "cell_type": "code",
   "execution_count": null,
   "id": "dc9792a1-2726-4586-89a6-d8b4fedb3cee",
   "metadata": {},
   "outputs": [],
   "source": []
  }
 ],
 "metadata": {
  "kernelspec": {
   "display_name": "Python 3 (ipykernel)",
   "language": "python",
   "name": "python3"
  },
  "language_info": {
   "codemirror_mode": {
    "name": "ipython",
    "version": 3
   },
   "file_extension": ".py",
   "mimetype": "text/x-python",
   "name": "python",
   "nbconvert_exporter": "python",
   "pygments_lexer": "ipython3",
   "version": "3.9.12"
  }
 },
 "nbformat": 4,
 "nbformat_minor": 5
}
