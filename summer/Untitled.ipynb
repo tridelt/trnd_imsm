{
 "cells": [
  {
   "cell_type": "code",
   "execution_count": 1,
   "id": "20f90d11-5c1c-4473-b8f7-93c2b58c0b34",
   "metadata": {},
   "outputs": [],
   "source": [
    "import pandas as pd"
   ]
  },
  {
   "cell_type": "code",
   "execution_count": 2,
   "id": "ee388ff8-4d2a-46ce-91ff-f2ffb9198bf5",
   "metadata": {},
   "outputs": [],
   "source": [
    "cc = \"es\"\n",
    "df = pd.read_csv(f'./data/{cc}/blogs_meta.csv')"
   ]
  },
  {
   "cell_type": "code",
   "execution_count": 9,
   "id": "421c2d94-c68a-4d6e-89c8-8291aa303149",
   "metadata": {},
   "outputs": [
    {
     "data": {
      "text/html": [
       "<div>\n",
       "<style scoped>\n",
       "    .dataframe tbody tr th:only-of-type {\n",
       "        vertical-align: middle;\n",
       "    }\n",
       "\n",
       "    .dataframe tbody tr th {\n",
       "        vertical-align: top;\n",
       "    }\n",
       "\n",
       "    .dataframe thead th {\n",
       "        text-align: right;\n",
       "    }\n",
       "</style>\n",
       "<table border=\"1\" class=\"dataframe\">\n",
       "  <thead>\n",
       "    <tr style=\"text-align: right;\">\n",
       "      <th></th>\n",
       "      <th>Unnamed: 0</th>\n",
       "      <th>project_id</th>\n",
       "      <th>weiterempfehlungsquote (%)</th>\n",
       "      <th>rating_value</th>\n",
       "      <th>review_count</th>\n",
       "      <th>content</th>\n",
       "      <th>n_comments</th>\n",
       "    </tr>\n",
       "  </thead>\n",
       "  <tbody>\n",
       "    <tr>\n",
       "      <th>0</th>\n",
       "      <td>0</td>\n",
       "      <td>51</td>\n",
       "      <td>NaN</td>\n",
       "      <td>NaN</td>\n",
       "      <td>NaN</td>\n",
       "      <td>\\nNuevo proyecto: FAGE Total \\n¡Nos preparamos...</td>\n",
       "      <td>0</td>\n",
       "    </tr>\n",
       "  </tbody>\n",
       "</table>\n",
       "</div>"
      ],
      "text/plain": [
       "   Unnamed: 0  project_id  weiterempfehlungsquote (%)  rating_value  \\\n",
       "0           0          51                         NaN           NaN   \n",
       "\n",
       "   review_count                                            content  n_comments  \n",
       "0           NaN  \\nNuevo proyecto: FAGE Total \\n¡Nos preparamos...           0  "
      ]
     },
     "execution_count": 9,
     "metadata": {},
     "output_type": "execute_result"
    }
   ],
   "source": [
    "res_df.loc[df['project_id'] == 51]"
   ]
  },
  {
   "cell_type": "code",
   "execution_count": 11,
   "id": "7882ac3e-4ef3-4ca7-9900-d98b3ce6a004",
   "metadata": {},
   "outputs": [],
   "source": [
    "res_df = pd.read_csv(f'./data/{cc}/results.csv')\n",
    "for i, row in res_df.iterrows():          \n",
    "    res_df.loc[df['project_id'] == row['project_id']] = int(df.loc[df['project_id'] == row['project_id'], 'n_comments'].sum())\n",
    "    # row['n_comments'] = int(df.loc[df['project_id'] == row['project_id'], 'n_comments'].sum())\n",
    "    \n",
    "        \n",
    "res_df.to_csv(f'./data/{cc}/results.csv', index=None)"
   ]
  },
  {
   "cell_type": "code",
   "execution_count": null,
   "id": "f0115e14-f815-4e59-9e8f-3bd88028d090",
   "metadata": {},
   "outputs": [],
   "source": []
  }
 ],
 "metadata": {
  "kernelspec": {
   "display_name": "Python 3 (ipykernel)",
   "language": "python",
   "name": "python3"
  },
  "language_info": {
   "codemirror_mode": {
    "name": "ipython",
    "version": 3
   },
   "file_extension": ".py",
   "mimetype": "text/x-python",
   "name": "python",
   "nbconvert_exporter": "python",
   "pygments_lexer": "ipython3",
   "version": "3.9.12"
  }
 },
 "nbformat": 4,
 "nbformat_minor": 5
}
