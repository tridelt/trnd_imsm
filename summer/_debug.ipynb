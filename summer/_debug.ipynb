{
 "cells": [
  {
   "cell_type": "code",
   "execution_count": 1,
   "id": "d9444cc6-997a-4890-a4c9-5ceaaec8020c",
   "metadata": {},
   "outputs": [],
   "source": [
    "%load_ext autoreload\n",
    "%autoreload 2"
   ]
  },
  {
   "cell_type": "code",
   "execution_count": 2,
   "id": "77b31603-767c-4c5d-a620-2b01382bd581",
   "metadata": {},
   "outputs": [],
   "source": [
    "import itertools\n",
    "import pandas as pd\n",
    "import requests\n",
    "from bs4 import BeautifulSoup"
   ]
  },
  {
   "cell_type": "code",
   "execution_count": 11,
   "id": "0cbaa322-51d1-499c-9584-f00003a7ca05",
   "metadata": {},
   "outputs": [],
   "source": [
    "from utils import get_blog_links_design2"
   ]
  },
  {
   "cell_type": "code",
   "execution_count": 8,
   "id": "76f850f3-892d-4598-a5e4-82ea573d2c1f",
   "metadata": {},
   "outputs": [],
   "source": [
    "trouble = 'https://www.trnd.com/de/projekte/artdeco-art-couture-nail-lacquer'\n",
    "trouble = 'https://www.trnd.com/de/projekte/somat-gold-tabs'"
   ]
  },
  {
   "cell_type": "code",
   "execution_count": null,
   "id": "debf9def-f9d9-4a7e-88fc-ab0830624f44",
   "metadata": {},
   "outputs": [],
   "source": [
    "MAKE SURE NOT DUPLICATES!! only select by blog\n",
    "once you have the links all the same! don't select based on name... jez....z"
   ]
  },
  {
   "cell_type": "code",
   "execution_count": 9,
   "id": "a1dee87c-877b-4c57-b244-c8c8acb4a743",
   "metadata": {},
   "outputs": [],
   "source": [
    "r = requests.get(trouble)\n",
    "r_soup = BeautifulSoup(r.content, 'html.parser')\n",
    "\n",
    "#     try to get whatever is there, maybe a nav-bar or phase-wrapper\n",
    "# nav_bar = r_soup.find(class_='project-nav')\n",
    "blogs = r_soup.find_all(class_='CampaignBlogPostsPage')"
   ]
  },
  {
   "cell_type": "code",
   "execution_count": 12,
   "id": "3bd24b5d-d521-46c4-b002-9de3289d6fb6",
   "metadata": {},
   "outputs": [
    {
     "data": {
      "text/plain": [
       "['https://www.trnd.com/de/projekte/somat-gold-tabs/startphase/jetzt-bewerben-somat-gold-im-trnd-projekt',\n",
       " 'https://www.trnd.com/de/projekte/somat-gold-tabs/aktionsphase/unsere-sternebewertungen-fur-die-somat-gold-tabs',\n",
       " 'https://www.trnd.com/de/projekte/somat-gold-tabs/aktionsphase/ein-oder-ausraeumen-was-macht-mehr-spass',\n",
       " 'https://www.trnd.com/de/projekte/somat-gold-tabs/aktionsphase/somat-gold-das-wichtigste-in-einem-satz',\n",
       " 'https://www.trnd.com/de/projekte/somat-gold-tabs/aktionsphase/unsere-erfahrungen-mit-somat-gold-online-teilen',\n",
       " 'https://www.trnd.com/de/projekte/somat-gold-tabs/aktionsphase/mit-gesprachsberichten-das-somat-projekt-bewegen',\n",
       " 'https://www.trnd.com/de/projekte/somat-gold-tabs/aktionsphase/meinungen-und-anregungen-von-freunden-einholen',\n",
       " 'https://www.trnd.com/de/projekte/somat-gold-tabs/aktionsphase/die-neuen-funktionen-der-somat-gold-tabs-im-check',\n",
       " 'https://www.trnd.com/de/projekte/somat-gold-tabs/aktionsphase/wir-stimmen-ab-spul-experten-gesucht',\n",
       " 'https://www.trnd.com/de/projekte/somat-gold-tabs/aktionsphase/somat-gold-corinna-lydie-beantworten-unsere-fragen',\n",
       " 'https://www.trnd.com/de/projekte/somat-gold-tabs/aktionsphase/bekanntmachen-von-somat-gold-beim-freundschaftsfest',\n",
       " 'https://www.trnd.com/de/projekte/somat-gold-tabs/aktionsphase/vorher-nachher-test-mit-den-somat-gold-tabs',\n",
       " 'https://www.trnd.com/de/projekte/somat-gold-tabs/aktionsphase/hattest-du-es-gewusst-insiderinfos-zu-somat',\n",
       " 'https://www.trnd.com/de/projekte/somat-gold-tabs/aktionsphase/die-somat-gold-tabs-am-arbeitsplatz-bekanntmachen',\n",
       " 'https://www.trnd.com/de/projekte/somat-gold-tabs/aktionsphase/so-spulen-wir-richtig-mit-den-somat-gold-tabs',\n",
       " 'https://www.trnd.com/de/projekte/somat-gold-tabs/aktionsphase/die-ersten-startpakete-mit-somat-gold-kommen-an',\n",
       " 'https://www.trnd.com/de/projekte/somat-gold-tabs/aktionsphase/unsere-ansprechpartnerinnen-bei-somat-corinna-und-lydie',\n",
       " 'https://www.trnd.com/de/projekte/somat-gold-tabs/aktionsphase/somat-gold-vordosierte-tabs-fuer-die-spuelmaschine']"
      ]
     },
     "execution_count": 12,
     "metadata": {},
     "output_type": "execute_result"
    }
   ],
   "source": [
    "get_blog_links_design2(blogs)"
   ]
  },
  {
   "cell_type": "code",
   "execution_count": 5,
   "id": "089d5413-4e6e-452d-b945-3f306b27c678",
   "metadata": {},
   "outputs": [],
   "source": [
    "df_old = pd.read_csv('/Users/pi/Desktop/Archive/de_blogs_meta.csv')['blog_href']\n",
    "df_less = pd.read_csv('/Users/pi/repos/wuwork/1_05_14_trnd/summer/data/de/tmp_blog_links.csv')['blog_href']"
   ]
  },
  {
   "cell_type": "code",
   "execution_count": 6,
   "id": "275ac799-3e94-4b9d-aa8e-837dbbfb7573",
   "metadata": {},
   "outputs": [],
   "source": [
    "missing = set(df_old).intersection(df_less)"
   ]
  },
  {
   "cell_type": "code",
   "execution_count": 13,
   "id": "2e54bdf4-63c8-4e0e-aad3-002941fe2559",
   "metadata": {},
   "outputs": [],
   "source": [
    "missing = set(df_old) ^ set(df_less)"
   ]
  },
  {
   "cell_type": "code",
   "execution_count": 14,
   "id": "4966a823-972a-4e74-9c5d-13d8e2c18329",
   "metadata": {},
   "outputs": [
    {
     "data": {
      "text/plain": [
       "329"
      ]
     },
     "execution_count": 14,
     "metadata": {},
     "output_type": "execute_result"
    }
   ],
   "source": [
    "len(missing)"
   ]
  },
  {
   "cell_type": "code",
   "execution_count": 17,
   "id": "2746f03b-01be-4c1b-b205-07904ce33f3a",
   "metadata": {},
   "outputs": [
    {
     "data": {
      "text/plain": [
       "2992"
      ]
     },
     "execution_count": 17,
     "metadata": {},
     "output_type": "execute_result"
    }
   ],
   "source": [
    "len(df_less)"
   ]
  },
  {
   "cell_type": "code",
   "execution_count": null,
   "id": "40df8771-aa05-4f56-b4ca-64f178a9deda",
   "metadata": {},
   "outputs": [
    {
     "data": {
      "text/plain": [
       "['https://www.trnd.com/de/projekte/eismann/blog/highlights',\n",
       " 'https://www.trnd.com/de/deref?url=eyJpdiI6IjhlbHFOUmNzUnRIcGZwNEkwXC9PbGRnPT0iLCJ2YWx1ZSI6Im1IZVdERVh5WHZXXC8yZVFnd0pjWjUzQ3RiYllCbW1ld1A2Z1lRZGZ4eEJaTzlSNjdpd3VsZ0xoN1dDa1FXTTJmdFpMVlJzV1wvWnFTZ1B5NWZWSjlvUzNSS1ZZbUo0NUdWbjhrelE4bFBETFZcL01IWnJ6dk9LbUE1azVxcEtuV3VRcWlwdGlvUE84c1I2d1NFcDljdTk3bERsU0c2MkpHOHdhU2JaWEtkXC8wXC80RUZDdmZMYlRCVXVWdjBnM3B4SHhyIiwibWFjIjoiNjlmNDE4MGVmZjI2ZWE2MGYyZTM1NTQwNjM3Y2ZhOWE2MTU1NjFjOTlkNzQ0MDhlYTc0ZjJkZWMzNjYzOTUyMSJ9',\n",
       " 'https://www.trnd.com/de/projekte/hidrofugal-stark-kuehlend-aktivschutz/blog/bekanntmachen',\n",
       " 'https://www.trnd.com/de/projekte/mixa-koerperpflege/blog/mit-mixa-durch-den-winter',\n",
       " 'https://www.trnd.com/de/projekte/loreal-revitalift-laser-gepresste-pflege/blog/eure-aufgaben',\n",
       " 'https://www.trnd.com/de/deref?url=eyJpdiI6IjZxSUVGVzJVQXZ2YktaYzBkeDQ4S2c9PSIsInZhbHVlIjoiQ2Y1a0RiWmlweGM2UEJJT0hMSmwzMTFMNkJDTmdqaUNwUTRuZml4UkU3MG9NYXFLa1hqMnRudFY5Z0dxa1ZYdDkxUmJmN2EzUXh6YmNOVWhCOE5pbHhmTXZZQmdua1NFWFR6Vm1MZ3dXUlJadU1jZTQzdXlWKzU5Smg5dzQ3cEN2TmNDaERPVTFwY1BtWE4ybnluYzBBXC9RVFdZc3B3ZTZncjlUVHo5XC9oMUZcL0tpSkRkd1J2YklDTlplNXpGN0dNVHNYcmhcLzV1TVRkSmFGSlIxNXdRWG9TU2FIVlRoWjE3SFdRbXNZTlwvU0hRPSIsIm1hYyI6ImE1ZTY5ZjVlNmIzNWYxMWViNzhhODZlOGMxOTE5YmFhNjllMjJjOWVjNjM3NzJmYTkzZmUyMTRmNThiY2VhY2EifQ%3D%3D',\n",
       " 'https://www.trnd.com/de/projekte/stoeckli/aktionsphase/endspurt',\n",
       " 'https://www.trnd.com/de/projekte/parodontax-zahnpasten/blog/eindruck',\n",
       " 'https://www.trnd.com/de/projekte/dove-deo-zink/blog/highlights',\n",
       " 'https://www.trnd.com/de/projekte/dr-best-green-clean-interdental/blog/die-anwendung']"
      ]
     },
     "execution_count": 15,
     "metadata": {},
     "output_type": "execute_result"
    }
   ],
   "source": [
    "list(itertools.islice(missing, 10))"
   ]
  },
  {
   "cell_type": "code",
   "execution_count": null,
   "id": "9d62567c-a7c9-43ab-9316-a67863977924",
   "metadata": {},
   "outputs": [],
   "source": []
  }
 ],
 "metadata": {
  "kernelspec": {
   "display_name": "Python 3 (ipykernel)",
   "language": "python",
   "name": "python3"
  },
  "language_info": {
   "codemirror_mode": {
    "name": "ipython",
    "version": 3
   },
   "file_extension": ".py",
   "mimetype": "text/x-python",
   "name": "python",
   "nbconvert_exporter": "python",
   "pygments_lexer": "ipython3",
   "version": "3.9.7"
  }
 },
 "nbformat": 4,
 "nbformat_minor": 5
}
