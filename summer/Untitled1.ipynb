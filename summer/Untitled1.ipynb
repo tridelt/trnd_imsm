{
 "cells": [
  {
   "cell_type": "code",
   "execution_count": null,
   "id": "f4f2b3ef-b3fe-4d19-9b3d-76bb6a2e9dcc",
   "metadata": {},
   "outputs": [],
   "source": [
    "def count_comments(cc):\n",
    "    df = pd.read_csv(f'./data/{cc}/blogs_meta.csv')\n",
    "            \n",
    "    res_df = pd.read_csv(f'./data/{cc}/results.csv')\n",
    "    for i, row in res_df.iterrows():\n",
    "        res_df.at[i,'n_comments'] = int(df.loc[df['project_id'] == row['project_id'], 'n_comments'].sum())\n",
    "\n",
    "        \n",
    "    res_df.to_csv(f'./data/{cc}/results.csv', index=None)"
   ]
  },
  {
   "cell_type": "code",
   "execution_count": 1,
   "id": "8945b872-b931-40bc-8add-1e0e2e6f8355",
   "metadata": {},
   "outputs": [],
   "source": [
    "import pandas as pd"
   ]
  },
  {
   "cell_type": "code",
   "execution_count": 3,
   "id": "4d66d258-c159-4525-b036-574da8ba8863",
   "metadata": {},
   "outputs": [],
   "source": [
    "cc = 'be-nl'"
   ]
  },
  {
   "cell_type": "code",
   "execution_count": 6,
   "id": "13d748af-5c76-4811-8bd4-27e052cab0bb",
   "metadata": {},
   "outputs": [
    {
     "name": "stdout",
     "output_type": "stream",
     "text": [
      "0  5  246\n",
      "1  8  671\n",
      "2  9  1620\n",
      "3  10  758\n",
      "4  16  1544\n",
      "5  17  423\n",
      "6  18  775\n",
      "7  19  548\n",
      "8  21  0\n",
      "9  22  0\n",
      "10  23  0\n",
      "11  25  0\n",
      "12  26  0\n"
     ]
    }
   ],
   "source": [
    "df = pd.read_csv(f'./data/{cc}/blogs_meta.csv')\n",
    "\n",
    "res_df = pd.read_csv(f'./data/{cc}/results.csv')\n",
    "for i, row in res_df.iterrows():\n",
    "    print(f\"{i}  {row['project_id']}  {int(df.loc[df['project_id'] == row['project_id'], 'n_comments'].sum())}\")\n"
   ]
  },
  {
   "cell_type": "code",
   "execution_count": null,
   "id": "4a9265a8-4398-4956-9bdd-77001ade339f",
   "metadata": {},
   "outputs": [],
   "source": []
  }
 ],
 "metadata": {
  "kernelspec": {
   "display_name": "Python 3 (ipykernel)",
   "language": "python",
   "name": "python3"
  },
  "language_info": {
   "codemirror_mode": {
    "name": "ipython",
    "version": 3
   },
   "file_extension": ".py",
   "mimetype": "text/x-python",
   "name": "python",
   "nbconvert_exporter": "python",
   "pygments_lexer": "ipython3",
   "version": "3.9.12"
  }
 },
 "nbformat": 4,
 "nbformat_minor": 5
}
