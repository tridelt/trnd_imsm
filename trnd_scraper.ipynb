{
 "cells": [
  {
   "cell_type": "code",
   "execution_count": 1,
   "metadata": {},
   "outputs": [],
   "source": [
    "import os\n",
    "import sys\n",
    "import datetime\n",
    "import requests\n",
    "import pandas as pd\n",
    "from requests_html import HTML, HTMLSession, AsyncHTMLSession\n",
    "\n",
    "import time\n",
    "from selenium import webdriver\n",
    "import csv\n",
    "from tqdm import tqdm\n",
    "import datetime\n",
    "from utils import get_comment_post_time"
   ]
  },
  {
   "cell_type": "code",
   "execution_count": 2,
   "metadata": {},
   "outputs": [],
   "source": [
    "# what is this for?\n",
    "# BASE_DIR = os.path.dirname(__file__)"
   ]
  },
  {
   "cell_type": "markdown",
   "metadata": {},
   "source": [
    "## load Projects"
   ]
  },
  {
   "cell_type": "code",
   "execution_count": 3,
   "metadata": {},
   "outputs": [
    {
     "name": "stderr",
     "output_type": "stream",
     "text": [
      "/var/folders/6r/1lcv5hpn0z71k7tc5mq76yn40000gn/T/ipykernel_6797/1957236770.py:1: DeprecationWarning: executable_path has been deprecated, please pass in a Service object\n",
      "  driver = webdriver.Chrome(\"/Users/pi/Downloads/chromedriver\")  # Optional argument, if not specified will search path.\n"
     ]
    }
   ],
   "source": [
    "driver = webdriver.Chrome(\"/Users/pi/Downloads/chromedriver\")  # Optional argument, if not specified will search path.\n",
    "for cc in ['uk','es','be-fr','be-nl','cz','fr','it','nl','hu','ro','pt','pl','de']:\n",
    "    driver.get(f'https://www.trnd.com/{cc}')\n",
    "    page = HTML(html = driver.page_source)\n",
    "    articles = page.find('.CampaignOverview', first=True)\n",
    "    projects_url = articles.attrs['href']\n",
    "    driver.get(projects_url)\n",
    "    break"
   ]
  },
  {
   "cell_type": "code",
   "execution_count": 5,
   "metadata": {},
   "outputs": [
    {
     "name": "stderr",
     "output_type": "stream",
     "text": [
      "/var/folders/6r/1lcv5hpn0z71k7tc5mq76yn40000gn/T/ipykernel_6797/1917391326.py:28: DeprecationWarning: executable_path has been deprecated, please pass in a Service object\n",
      "  driver = webdriver.Chrome(\"/Users/pi/Downloads/chromedriver\")  # Optional argument, if not specified will search path.\n",
      "/var/folders/6r/1lcv5hpn0z71k7tc5mq76yn40000gn/T/ipykernel_6797/1917391326.py:40: DeprecationWarning: find_element_by_* commands are deprecated. Please use find_element() instead\n",
      "  element = driver.find_element_by_id('load-more')\n"
     ]
    }
   ],
   "source": [
    "def scrape_projects_page():\n",
    "    articles_parsed = []\n",
    "\n",
    "    page = HTML(html = driver.page_source)\n",
    "    articles = page.find('article')\n",
    "    for i, article in enumerate(articles):\n",
    "        link_elem = article.find('.campaign-card__link', first=True)\n",
    "        category_elem = article.find('.campaign-card__category', first=True)\n",
    "        title_elem = article.find('h1', first=True)\n",
    "        description_elem = article.find('.campaign-card__paragraph', first=True)\n",
    "        dates_elems = article.find('.campaign-card__progress', first=True).find('p')\n",
    "\n",
    "        articles_parsed.append(\n",
    "            {\n",
    "                 'project_id' : i+1,\n",
    "                 'href' : link_elem.attrs['href'] if link_elem else None,\n",
    "                 'category' : category_elem.text if category_elem else None,\n",
    "                 'title' : title_elem.text if title_elem else None,\n",
    "                 'description' : description_elem.text if description_elem else None,\n",
    "                 'start_date' : dates_elems[0].text if dates_elems else None,\n",
    "                 'end_date' : dates_elems[1].text if dates_elems else None\n",
    "            }\n",
    "        )\n",
    "\n",
    "    df = pd.DataFrame(articles_parsed)\n",
    "    df.to_csv(f'./{cc}_projekte.csv', index=None)  \n",
    "\n",
    "driver = webdriver.Chrome(\"/Users/pi/Downloads/chromedriver\")  # Optional argument, if not specified will search path.\n",
    "for cc in ['es','cz','be-fr','be-nl','uk','fr','it','nl','hu','ro','pt','pl','de']:\n",
    "    driver.get(f'https://www.trnd.com/{cc}')\n",
    "    page = HTML(html = driver.page_source)\n",
    "    articles = page.find('.CampaignOverview', first=True)\n",
    "    projects_url = articles.attrs['href']\n",
    "    driver.get(projects_url)\n",
    "\n",
    "    while True:\n",
    "        driver.execute_script(\"window.scrollTo(0, document.body.scrollHeight)\");\n",
    "        time.sleep(1)\n",
    "\n",
    "        element = driver.find_element_by_id('load-more')\n",
    "        if not element.is_displayed():\n",
    "            break\n",
    "        else:\n",
    "            element.click()\n",
    "\n",
    "        time.sleep(1)\n",
    "\n",
    "    scrape_projects_page()\n",
    "    break"
   ]
  },
  {
   "cell_type": "markdown",
   "metadata": {
    "tags": []
   },
   "source": [
    "## load blog_links"
   ]
  },
  {
   "cell_type": "code",
   "execution_count": 11,
   "metadata": {
    "tags": []
   },
   "outputs": [
    {
     "name": "stdout",
     "output_type": "stream",
     "text": [
      "\n",
      "#1  https://www.trnd.com/de/projekte/hipp-babysanft-lotion\n"
     ]
    }
   ],
   "source": [
    "df = pd.read_csv(f'./de_projekte.csv')\n",
    "session = HTMLSession()\n",
    "\n",
    "csv_blog_line = []\n",
    "blog_id = 1\n",
    "for i, row in df.iterrows():\n",
    "    blog_links = []\n",
    "    \n",
    "    project_base_url = row['href']\n",
    "    print(f'\\n#{i+1}  {project_base_url}')\n",
    "    homepage = session.get(project_base_url)\n",
    "    \n",
    "    nav_bar = homepage.html.find('.project-nav',first=True)\n",
    "    phase_wrapper = homepage.html.find('.phase-wrap',first=True)\n",
    "    \n",
    "#     has nav-bar?\n",
    "    if nav_bar:\n",
    "        if any([x.text == 'Blog' for x in nav_bar.find('a')]):\n",
    "            blog_links.extend(get_blog_links_design1(f'{project_base_url}/blog'))\n",
    "            print(str(blog_links) + \"   Blog\")\n",
    "        elif any([x.text == 'Projektblog' for x in nav_bar.find('a')]):\n",
    "            project_blog_link = [x for x in nav_bar.find('a') if x.text == 'Projektblog'][0].attrs['href']\n",
    "            blog_links.extend(get_blog_links_design1(project_blog_link))\n",
    "            print(str(blog_links) + \"   Projektblog\")\n",
    "    \n",
    "    if phase_wrapper:\n",
    "        blog_links.extend(get_blog_links_design2(phase_wrapper))\n",
    "        print(str(blog_links) + \"   Phases\")\n",
    "\n",
    "    for link in blog_links:\n",
    "        csv_blog_line.append({\n",
    "            'project_id' : row['project_id'],\n",
    "            'blog_id' : blog_id,\n",
    "            'blog_href' : link\n",
    "\n",
    "        })\n",
    "        blog_id+=1\n",
    "    break\n",
    "df = pd.DataFrame(csv_blog_line)\n",
    "df.to_csv('./de_blog_links.csv', index=None)  "
   ]
  },
  {
   "cell_type": "code",
   "execution_count": null,
   "metadata": {},
   "outputs": [],
   "source": []
  },
  {
   "cell_type": "code",
   "execution_count": 14,
   "metadata": {},
   "outputs": [
    {
     "data": {
      "text/plain": [
       "[]"
      ]
     },
     "execution_count": 14,
     "metadata": {},
     "output_type": "execute_result"
    }
   ],
   "source": [
    "csv_blog_line"
   ]
  },
  {
   "cell_type": "code",
   "execution_count": null,
   "metadata": {},
   "outputs": [],
   "source": []
  },
  {
   "cell_type": "code",
   "execution_count": null,
   "metadata": {},
   "outputs": [],
   "source": []
  },
  {
   "cell_type": "code",
   "execution_count": null,
   "metadata": {},
   "outputs": [],
   "source": [
    "# PARSE ALL BLOG-LINKS FROM PAGE\n",
    "def get_blog_links_design1(blog_url):\n",
    "    blog_page = session.get(blog_url)\n",
    "\n",
    "#     scrapes first page\n",
    "    blog_links = []\n",
    "    blog_links.extend([blog.find('a',first=True).attrs['href'] for blog in blog_page.html.find('article')])\n",
    "        \n",
    "#     if additional pages exist, scrape them also\n",
    "    has_next = blog_page.html.find('.next',first=True)\n",
    "    while has_next:\n",
    "        blog_page = session.get(has_next.attrs['href'])\n",
    "        blog_links.extend([blog.find('a',first=True).attrs['href'] for blog in blog_page.html.find('article')])\n",
    "\n",
    "        has_next = blog_page.html.find('.next',first=True)\n",
    "\n",
    "    return blog_links    \n",
    "\n",
    "def get_blog_links_design2(phase_wrapper):\n",
    "    blog_links = []\n",
    "    for phase_link in [phase.attrs['href'] for phase in phase_wrapper.find('a')]:\n",
    "        blog_page = session.get(phase_link)\n",
    "        blog_links.extend([blog.find('a',first=True).attrs['href'] for blog in blog_page.html.find('article')])\n",
    "        \n",
    "    #     if additional pages exist, scrape them also\n",
    "        has_next = blog_page.html.find('.next',first=True)\n",
    "        while has_next:\n",
    "            blog_page = session.get(has_next.attrs['href'])\n",
    "            blog_links.extend([blog.find('a',first=True).attrs['href'] for blog in blog_page.html.find('article')])\n",
    "            \n",
    "            has_next = blog_page.html.find('.next',first=True)\n",
    "\n",
    "    return blog_links"
   ]
  },
  {
   "cell_type": "code",
   "execution_count": null,
   "metadata": {},
   "outputs": [],
   "source": []
  },
  {
   "cell_type": "code",
   "execution_count": null,
   "metadata": {},
   "outputs": [],
   "source": [
    "df = pd.DataFrame(csv_comment_lines)\n",
    "df = df.reindex(['project_id','blog_id','comment_id','comment_author','comment_time','comment_text'],axis=1)\n",
    "df = df.sort_values(by=['blog_id','comment_id'],ascending=[True,True])\n",
    "df.to_csv('./de_comments.csv', index=None)  "
   ]
  },
  {
   "cell_type": "code",
   "execution_count": null,
   "metadata": {},
   "outputs": [],
   "source": [
    "df"
   ]
  },
  {
   "cell_type": "code",
   "execution_count": null,
   "metadata": {
    "scrolled": true
   },
   "outputs": [],
   "source": [
    "df = pd.read_csv(f'./de_blog_links.csv')\n",
    "session = HTMLSession()\n",
    "\n",
    "csv_comment_lines = []\n",
    "# comment_id = 675675\n",
    "comment_id = 1\n",
    "for i, row in df.iterrows():\n",
    "#     if row['blog_id'] <= 2267:\n",
    "#         continue\n",
    "    comments_parsed = parse_blog(row['blog_href'])\n",
    "    print(f'#{len(comments_parsed)}  --  {row[\"blog_href\"]}')\n",
    "    \n",
    "    for comment_parsed in comments_parsed:\n",
    "        comment_parsed['project_id'] = row['project_id']\n",
    "        comment_parsed['blog_id'] = row['blog_id']\n",
    "        comment_parsed['comment_id'] = comment_id\n",
    "        \n",
    "        csv_comment_lines.append(comment_parsed)\n",
    "        comment_id+=1\n",
    "\n",
    "df = pd.DataFrame(csv_comment_lines)\n",
    "df = df.reindex(['project_id','blog_id','comment_id','comment_author','comment_time','comment_text','reply_to','is_moderator'],axis=1)\n",
    "df = df.sort_values(by=['blog_id','comment_id'],ascending=[True,True])\n",
    "# df.to_csv('./de_comments.csv', index=None, mode='a', header=False)  \n",
    "df.to_csv('./de_comments.csv', index=None)  "
   ]
  },
  {
   "cell_type": "code",
   "execution_count": null,
   "metadata": {},
   "outputs": [],
   "source": [
    "df = pd.DataFrame(csv_comment_lines)\n",
    "df = df.reindex(['project_id','blog_id','comment_id','comment_author','comment_time','comment_text','reply_to','is_moderator'],axis=1)\n",
    "df = df.sort_values(by=['blog_id','comment_id'],ascending=[True,True])\n",
    "# df.to_csv('./de_comments.csv', index=None)  \n",
    "df"
   ]
  },
  {
   "cell_type": "code",
   "execution_count": null,
   "metadata": {},
   "outputs": [],
   "source": [
    "## debugging\n",
    "session = HTMLSession()\n",
    "# blog_url = 'https://www.trnd.com/de/projekte/welde-naturstoff-kellerbier/aktionsphase/vollmundiger-biergenuss-in-der-geschwungenen-flasche'\n",
    "blog_url = 'https://www.trnd.com/de/projekte/cetaphil-sun-kids/blog/cetaphil-lisa-stellt-sich-vor'\n",
    "blog_url = 'https://www.trnd.com/de/projekte/tiptoi-2021/blog/gewinnspiel-unsere-reise-um-die-welt'\n",
    "blog_url_trouble = 'https://www.trnd.com/de/projekte/odolmed3-senses/blog/die-produktreihe'\n",
    "blog_url_trouble = 'https://www.trnd.com/de/projekte/braun-multiquick7-mq745-aperitif/aktionsphase/unsere-aufgaben'\n",
    "\n",
    "df = pd.DataFrame(parse_blog(blog_url_trouble))\n",
    "# df.to_csv('./test.csv', index=None)  \n",
    "# get_comment_post_time('9 Monate')"
   ]
  },
  {
   "cell_type": "code",
   "execution_count": null,
   "metadata": {},
   "outputs": [],
   "source": [
    "df"
   ]
  },
  {
   "cell_type": "code",
   "execution_count": null,
   "metadata": {},
   "outputs": [],
   "source": [
    "# PARSE ALL COMMENTS FROM BLOG\n",
    "def parse_blog(blog_url):    \n",
    "    blog_page = session.get(blog_url)\n",
    "    \n",
    "    n_comments = blog_page.html.find('.comment-headline',first=True)\n",
    "    n_comments = n_comments.text if n_comments != None else '0 Comments'\n",
    "    print(f\"#{n_comments}\")\n",
    "    \n",
    "    \n",
    "\n",
    "#         COMMENTS\n",
    "    comments_parsed = []\n",
    "    comments_div = blog_page.html.find(\"#comments\",first=True)\n",
    "    if comments_div == None:\n",
    "        return []\n",
    "    else:\n",
    "        comments_parsed.extend(parse_comments(comments_div))\n",
    "\n",
    "        has_prev = blog_page.html.find('.prev',first=True)\n",
    "        while has_prev:\n",
    "#             print(has_prev.attrs['href'])\n",
    "            blog_page = session.get(has_prev.attrs['href'])\n",
    "            comments_div = blog_page.html.find(\"#comments\",first=True)\n",
    "            comments_parsed.extend(parse_comments(comments_div))\n",
    "            has_prev = blog_page.html.find('.prev',first=True)\n",
    "\n",
    "        return comments_parsed\n",
    "\n",
    "        #     break\n",
    "#         df = pd.DataFrame(comments_parsed)\n",
    "#         df.insert(0,'comment_id',range(1,len(comments_parsed)+1))\n",
    "#         return df\n",
    "\n",
    "def parse_comments(comments_div):\n",
    "    comments_parsed = []\n",
    "    scrape_time = datetime.datetime.now()\n",
    "    for comment_div in comments_div.xpath('/html/div/div/child::div'):\n",
    "        \n",
    "        comments_raw = []\n",
    "        is_reply = False\n",
    "        if 'replies' in comment_div.attrs['class']:\n",
    "            comments_raw = comment_div.find('.comment')\n",
    "            is_reply = True\n",
    "        else:\n",
    "            comments_raw = [comment_div]\n",
    "        \n",
    "        for comment in comments_raw:\n",
    "            comment_author = comment.find('.comment-author',first=True).text\n",
    "            comment_time = comment.find('.comment-time',first=True).text[6:]\n",
    "            comment_text = comment.find('p')[1].text if len(comment.find('p')) == 2 else comment.find('dl',first=True).text.strip()\n",
    "#             comment_text = comment.find('p')[1].text\n",
    "            is_moderator = len(comment.find('.moderator')) > 0\n",
    "            reply_to = comment_text.split(': ')[0] if is_reply else None\n",
    "\n",
    "            comments_parsed.append(\n",
    "                {\n",
    "                     'comment_author' : comment_author,\n",
    "                     'is_moderator' : is_moderator,\n",
    "                     'comment_time' : str(datetime.datetime.now() - datetime.timedelta(seconds=get_comment_post_time(comment_time))).split('.')[0],\n",
    "                     'comment_text' : comment_text,\n",
    "                     'reply_to' : reply_to\n",
    "                }\n",
    "            )\n",
    "    return comments_parsed\n",
    "\n",
    "## debuggins\n",
    "# no comments https://www.trnd.com/de/projekte/welde-naturstoff-kellerbier/aktionsphase/vollmundiger-biergenuss-in-der-geschwungenen-flasche\n",
    "# phases with https://www.trnd.com/de/projekte/lechuza-pflanzgefaesse/aktionsphase/unsere-abschliesende-meinung-zum-lechuza-classico\n"
   ]
  },
  {
   "cell_type": "code",
   "execution_count": null,
   "metadata": {},
   "outputs": [],
   "source": [
    "#      BLOG-META\n",
    "#         blogs_parsed = []\n",
    "#         parse_blog()\n",
    "#         blog_page_element.html.find('meta')\n",
    "#         blogs_parsed.append([])"
   ]
  }
 ],
 "metadata": {
  "kernelspec": {
   "display_name": "Python 3 (ipykernel)",
   "language": "python",
   "name": "python3"
  },
  "language_info": {
   "codemirror_mode": {
    "name": "ipython",
    "version": 3
   },
   "file_extension": ".py",
   "mimetype": "text/x-python",
   "name": "python",
   "nbconvert_exporter": "python",
   "pygments_lexer": "ipython3",
   "version": "3.9.12"
  }
 },
 "nbformat": 4,
 "nbformat_minor": 4
}
